{
 "cells": [
  {
   "cell_type": "markdown",
   "id": "a802a397-9b84-486a-9f6e-c32a6151dba5",
   "metadata": {},
   "source": [
    "# Projet de Machine Learning \n",
    "## Gym Members Exercise Dataset\n",
    "### EHRHART Elsa, SLISSE Paul, STAUB Guillaume, HOSSEINI Arman\n",
    "(Notebook Python)"
   ]
  },
  {
   "cell_type": "markdown",
   "id": "fbcb7147-96c6-46d1-bd42-a9ecdab0607c",
   "metadata": {},
   "source": [
    "#### **I.Pre-proccessing des données**"
   ]
  },
  {
   "cell_type": "markdown",
   "id": "68e966f4-e6e8-4bd8-ada8-a44e441995c6",
   "metadata": {},
   "source": [
    "On va ici sans entrer dans le détail faire la même chose que les parties I.1, I.2 et I.3 du notebook R afin de préparer nos données."
   ]
  },
  {
   "cell_type": "code",
   "execution_count": 1,
   "id": "c42ba867-38a4-435a-b0c8-a649c82fa1e1",
   "metadata": {},
   "outputs": [
    {
     "data": {
      "text/html": [
       "<div>\n",
       "<style scoped>\n",
       "    .dataframe tbody tr th:only-of-type {\n",
       "        vertical-align: middle;\n",
       "    }\n",
       "\n",
       "    .dataframe tbody tr th {\n",
       "        vertical-align: top;\n",
       "    }\n",
       "\n",
       "    .dataframe thead th {\n",
       "        text-align: right;\n",
       "    }\n",
       "</style>\n",
       "<table border=\"1\" class=\"dataframe\">\n",
       "  <thead>\n",
       "    <tr style=\"text-align: right;\">\n",
       "      <th></th>\n",
       "      <th>Age</th>\n",
       "      <th>Gender</th>\n",
       "      <th>Weight (kg)</th>\n",
       "      <th>Height (m)</th>\n",
       "      <th>Max_BPM</th>\n",
       "      <th>Avg_BPM</th>\n",
       "      <th>Resting_BPM</th>\n",
       "      <th>Session_Duration (hours)</th>\n",
       "      <th>Calories_Burned</th>\n",
       "      <th>Workout_Type</th>\n",
       "      <th>Fat_Percentage</th>\n",
       "      <th>Water_Intake (liters)</th>\n",
       "      <th>Workout_Frequency (days/week)</th>\n",
       "      <th>Experience_Level</th>\n",
       "      <th>BMI</th>\n",
       "    </tr>\n",
       "  </thead>\n",
       "  <tbody>\n",
       "    <tr>\n",
       "      <th>0</th>\n",
       "      <td>56</td>\n",
       "      <td>Male</td>\n",
       "      <td>88.3</td>\n",
       "      <td>1.71</td>\n",
       "      <td>180</td>\n",
       "      <td>157</td>\n",
       "      <td>60</td>\n",
       "      <td>1.69</td>\n",
       "      <td>1313.0</td>\n",
       "      <td>Yoga</td>\n",
       "      <td>12.6</td>\n",
       "      <td>3.5</td>\n",
       "      <td>4</td>\n",
       "      <td>3</td>\n",
       "      <td>30.20</td>\n",
       "    </tr>\n",
       "    <tr>\n",
       "      <th>1</th>\n",
       "      <td>46</td>\n",
       "      <td>Female</td>\n",
       "      <td>74.9</td>\n",
       "      <td>1.53</td>\n",
       "      <td>179</td>\n",
       "      <td>151</td>\n",
       "      <td>66</td>\n",
       "      <td>1.30</td>\n",
       "      <td>883.0</td>\n",
       "      <td>HIIT</td>\n",
       "      <td>33.9</td>\n",
       "      <td>2.1</td>\n",
       "      <td>4</td>\n",
       "      <td>2</td>\n",
       "      <td>32.00</td>\n",
       "    </tr>\n",
       "    <tr>\n",
       "      <th>2</th>\n",
       "      <td>32</td>\n",
       "      <td>Female</td>\n",
       "      <td>68.1</td>\n",
       "      <td>1.66</td>\n",
       "      <td>167</td>\n",
       "      <td>122</td>\n",
       "      <td>54</td>\n",
       "      <td>1.11</td>\n",
       "      <td>677.0</td>\n",
       "      <td>Cardio</td>\n",
       "      <td>33.4</td>\n",
       "      <td>2.3</td>\n",
       "      <td>4</td>\n",
       "      <td>2</td>\n",
       "      <td>24.71</td>\n",
       "    </tr>\n",
       "    <tr>\n",
       "      <th>3</th>\n",
       "      <td>25</td>\n",
       "      <td>Male</td>\n",
       "      <td>53.2</td>\n",
       "      <td>1.70</td>\n",
       "      <td>190</td>\n",
       "      <td>164</td>\n",
       "      <td>56</td>\n",
       "      <td>0.59</td>\n",
       "      <td>532.0</td>\n",
       "      <td>Strength</td>\n",
       "      <td>28.8</td>\n",
       "      <td>2.1</td>\n",
       "      <td>3</td>\n",
       "      <td>1</td>\n",
       "      <td>18.41</td>\n",
       "    </tr>\n",
       "    <tr>\n",
       "      <th>4</th>\n",
       "      <td>38</td>\n",
       "      <td>Male</td>\n",
       "      <td>46.1</td>\n",
       "      <td>1.79</td>\n",
       "      <td>188</td>\n",
       "      <td>158</td>\n",
       "      <td>68</td>\n",
       "      <td>0.64</td>\n",
       "      <td>556.0</td>\n",
       "      <td>Strength</td>\n",
       "      <td>29.2</td>\n",
       "      <td>2.8</td>\n",
       "      <td>3</td>\n",
       "      <td>1</td>\n",
       "      <td>14.39</td>\n",
       "    </tr>\n",
       "  </tbody>\n",
       "</table>\n",
       "</div>"
      ],
      "text/plain": [
       "   Age  Gender  Weight (kg)  Height (m)  Max_BPM  Avg_BPM  Resting_BPM  \\\n",
       "0   56    Male         88.3        1.71      180      157           60   \n",
       "1   46  Female         74.9        1.53      179      151           66   \n",
       "2   32  Female         68.1        1.66      167      122           54   \n",
       "3   25    Male         53.2        1.70      190      164           56   \n",
       "4   38    Male         46.1        1.79      188      158           68   \n",
       "\n",
       "   Session_Duration (hours)  Calories_Burned Workout_Type  Fat_Percentage  \\\n",
       "0                      1.69           1313.0         Yoga            12.6   \n",
       "1                      1.30            883.0         HIIT            33.9   \n",
       "2                      1.11            677.0       Cardio            33.4   \n",
       "3                      0.59            532.0     Strength            28.8   \n",
       "4                      0.64            556.0     Strength            29.2   \n",
       "\n",
       "   Water_Intake (liters)  Workout_Frequency (days/week)  Experience_Level  \\\n",
       "0                    3.5                              4                 3   \n",
       "1                    2.1                              4                 2   \n",
       "2                    2.3                              4                 2   \n",
       "3                    2.1                              3                 1   \n",
       "4                    2.8                              3                 1   \n",
       "\n",
       "     BMI  \n",
       "0  30.20  \n",
       "1  32.00  \n",
       "2  24.71  \n",
       "3  18.41  \n",
       "4  14.39  "
      ]
     },
     "execution_count": 1,
     "metadata": {},
     "output_type": "execute_result"
    }
   ],
   "source": [
    "import pandas as pd\n",
    "import numpy as np\n",
    "import seaborn as sns\n",
    "import matplotlib.pyplot as plt\n",
    "from sklearn.model_selection import train_test_split\n",
    "path=\"./gym_members_exercise_tracking.csv\"\n",
    "gym=pd.read_csv(path,sep=\",\",header=0)\n",
    "gym.head()"
   ]
  },
  {
   "cell_type": "code",
   "execution_count": 2,
   "id": "e5cff8cf-4c60-4725-811f-7086c289407e",
   "metadata": {},
   "outputs": [
    {
     "data": {
      "text/plain": [
       "Age                                 int64\n",
       "Gender                           category\n",
       "Weight (kg)                       float64\n",
       "Height (m)                        float64\n",
       "Max_BPM                             int64\n",
       "Avg_BPM                             int64\n",
       "Resting_BPM                         int64\n",
       "Session_Duration (hours)          float64\n",
       "Calories_Burned                   float64\n",
       "Workout_Type                     category\n",
       "Fat_Percentage                    float64\n",
       "Water_Intake (liters)             float64\n",
       "Workout_Frequency (days/week)       int64\n",
       "Experience_Level                 category\n",
       "BMI                               float64\n",
       "dtype: object"
      ]
     },
     "execution_count": 2,
     "metadata": {},
     "output_type": "execute_result"
    }
   ],
   "source": [
    "gym[\"Gender\"]=pd.Categorical(gym[\"Gender\"],ordered=False)\n",
    "gym[\"Workout_Type\"]=pd.Categorical(gym[\"Workout_Type\"],ordered=False)\n",
    "gym[\"Experience_Level\"]=pd.Categorical(gym[\"Experience_Level\"],ordered=True)\n",
    "gym.dtypes"
   ]
  },
  {
   "cell_type": "code",
   "execution_count": 3,
   "id": "bde20356-dd31-4298-bb2b-0582f982bdf8",
   "metadata": {},
   "outputs": [
    {
     "data": {
      "text/html": [
       "<div>\n",
       "<style scoped>\n",
       "    .dataframe tbody tr th:only-of-type {\n",
       "        vertical-align: middle;\n",
       "    }\n",
       "\n",
       "    .dataframe tbody tr th {\n",
       "        vertical-align: top;\n",
       "    }\n",
       "\n",
       "    .dataframe thead th {\n",
       "        text-align: right;\n",
       "    }\n",
       "</style>\n",
       "<table border=\"1\" class=\"dataframe\">\n",
       "  <thead>\n",
       "    <tr style=\"text-align: right;\">\n",
       "      <th></th>\n",
       "      <th>Age</th>\n",
       "      <th>Gender</th>\n",
       "      <th>Height (m)</th>\n",
       "      <th>Max_BPM</th>\n",
       "      <th>Avg_BPM</th>\n",
       "      <th>Resting_BPM</th>\n",
       "      <th>Session_Duration (hours)</th>\n",
       "      <th>Calories_Burned</th>\n",
       "      <th>Workout_Type</th>\n",
       "      <th>Fat_Percentage</th>\n",
       "      <th>Water_Intake (liters)</th>\n",
       "      <th>Workout_Frequency (days/week)</th>\n",
       "      <th>Experience_Level</th>\n",
       "      <th>LWeight</th>\n",
       "      <th>LBMI</th>\n",
       "    </tr>\n",
       "  </thead>\n",
       "  <tbody>\n",
       "    <tr>\n",
       "      <th>0</th>\n",
       "      <td>56</td>\n",
       "      <td>Male</td>\n",
       "      <td>1.71</td>\n",
       "      <td>180</td>\n",
       "      <td>157</td>\n",
       "      <td>60</td>\n",
       "      <td>1.69</td>\n",
       "      <td>1313.0</td>\n",
       "      <td>Yoga</td>\n",
       "      <td>12.6</td>\n",
       "      <td>3.5</td>\n",
       "      <td>4</td>\n",
       "      <td>3</td>\n",
       "      <td>4.480740</td>\n",
       "      <td>3.407842</td>\n",
       "    </tr>\n",
       "    <tr>\n",
       "      <th>1</th>\n",
       "      <td>46</td>\n",
       "      <td>Female</td>\n",
       "      <td>1.53</td>\n",
       "      <td>179</td>\n",
       "      <td>151</td>\n",
       "      <td>66</td>\n",
       "      <td>1.30</td>\n",
       "      <td>883.0</td>\n",
       "      <td>HIIT</td>\n",
       "      <td>33.9</td>\n",
       "      <td>2.1</td>\n",
       "      <td>4</td>\n",
       "      <td>2</td>\n",
       "      <td>4.316154</td>\n",
       "      <td>3.465736</td>\n",
       "    </tr>\n",
       "    <tr>\n",
       "      <th>2</th>\n",
       "      <td>32</td>\n",
       "      <td>Female</td>\n",
       "      <td>1.66</td>\n",
       "      <td>167</td>\n",
       "      <td>122</td>\n",
       "      <td>54</td>\n",
       "      <td>1.11</td>\n",
       "      <td>677.0</td>\n",
       "      <td>Cardio</td>\n",
       "      <td>33.4</td>\n",
       "      <td>2.3</td>\n",
       "      <td>4</td>\n",
       "      <td>2</td>\n",
       "      <td>4.220977</td>\n",
       "      <td>3.207208</td>\n",
       "    </tr>\n",
       "    <tr>\n",
       "      <th>3</th>\n",
       "      <td>25</td>\n",
       "      <td>Male</td>\n",
       "      <td>1.70</td>\n",
       "      <td>190</td>\n",
       "      <td>164</td>\n",
       "      <td>56</td>\n",
       "      <td>0.59</td>\n",
       "      <td>532.0</td>\n",
       "      <td>Strength</td>\n",
       "      <td>28.8</td>\n",
       "      <td>2.1</td>\n",
       "      <td>3</td>\n",
       "      <td>1</td>\n",
       "      <td>3.974058</td>\n",
       "      <td>2.912894</td>\n",
       "    </tr>\n",
       "    <tr>\n",
       "      <th>4</th>\n",
       "      <td>38</td>\n",
       "      <td>Male</td>\n",
       "      <td>1.79</td>\n",
       "      <td>188</td>\n",
       "      <td>158</td>\n",
       "      <td>68</td>\n",
       "      <td>0.64</td>\n",
       "      <td>556.0</td>\n",
       "      <td>Strength</td>\n",
       "      <td>29.2</td>\n",
       "      <td>2.8</td>\n",
       "      <td>3</td>\n",
       "      <td>1</td>\n",
       "      <td>3.830813</td>\n",
       "      <td>2.666534</td>\n",
       "    </tr>\n",
       "  </tbody>\n",
       "</table>\n",
       "</div>"
      ],
      "text/plain": [
       "   Age  Gender  Height (m)  Max_BPM  Avg_BPM  Resting_BPM  \\\n",
       "0   56    Male        1.71      180      157           60   \n",
       "1   46  Female        1.53      179      151           66   \n",
       "2   32  Female        1.66      167      122           54   \n",
       "3   25    Male        1.70      190      164           56   \n",
       "4   38    Male        1.79      188      158           68   \n",
       "\n",
       "   Session_Duration (hours)  Calories_Burned Workout_Type  Fat_Percentage  \\\n",
       "0                      1.69           1313.0         Yoga            12.6   \n",
       "1                      1.30            883.0         HIIT            33.9   \n",
       "2                      1.11            677.0       Cardio            33.4   \n",
       "3                      0.59            532.0     Strength            28.8   \n",
       "4                      0.64            556.0     Strength            29.2   \n",
       "\n",
       "   Water_Intake (liters)  Workout_Frequency (days/week) Experience_Level  \\\n",
       "0                    3.5                              4                3   \n",
       "1                    2.1                              4                2   \n",
       "2                    2.3                              4                2   \n",
       "3                    2.1                              3                1   \n",
       "4                    2.8                              3                1   \n",
       "\n",
       "    LWeight      LBMI  \n",
       "0  4.480740  3.407842  \n",
       "1  4.316154  3.465736  \n",
       "2  4.220977  3.207208  \n",
       "3  3.974058  2.912894  \n",
       "4  3.830813  2.666534  "
      ]
     },
     "execution_count": 3,
     "metadata": {},
     "output_type": "execute_result"
    }
   ],
   "source": [
    "gym[\"LWeight\"]=gym[\"Weight (kg)\"].map(lambda x:np.log(x))\n",
    "gym[\"LBMI\"]=gym[\"BMI\"].map(lambda x:np.log(x))\n",
    "#gym[\"LWater_Intake\"]=gym[\"Water_Intake (liters)\"].map(lambda x:np.log(x))\n",
    "#gym[\"Fat_Percentage_S\"]=gym[\"Fat_Percentage\"].map(lambda x:x**2/100)\n",
    "#gym[\"SHeight\"]=gym[\"Height (m)\"].map(lambda x:np.sqrt(x))\n",
    "del gym[\"Weight (kg)\"]\n",
    "del gym[\"BMI\"]\n",
    "#del gym[\"Water_Intake (liters)\"]\n",
    "#del gym[\"Fat_Percentage\"]\n",
    "#del gym[\"Height (m)\"]\n",
    "gym.head()"
   ]
  },
  {
   "cell_type": "code",
   "execution_count": 4,
   "id": "ff0eda00-a97b-41e2-a70c-4457812ed61c",
   "metadata": {},
   "outputs": [
    {
     "name": "stdout",
     "output_type": "stream",
     "text": [
      "Age                              0\n",
      "Gender                           0\n",
      "Height (m)                       0\n",
      "Max_BPM                          0\n",
      "Avg_BPM                          0\n",
      "Resting_BPM                      0\n",
      "Session_Duration (hours)         0\n",
      "Calories_Burned                  0\n",
      "Workout_Type                     0\n",
      "Fat_Percentage                   0\n",
      "Water_Intake (liters)            0\n",
      "Workout_Frequency (days/week)    0\n",
      "Experience_Level                 0\n",
      "LWeight                          0\n",
      "LBMI                             0\n",
      "dtype: int64\n"
     ]
    }
   ],
   "source": [
    "print(gym.isnull().sum())"
   ]
  },
  {
   "cell_type": "markdown",
   "id": "865cf4ef-5bfa-4eb1-9ace-361a3a8299cd",
   "metadata": {},
   "source": [
    "Il n'y a aucune valeur manquante dans le jeu de données."
   ]
  },
  {
   "cell_type": "markdown",
   "id": "dab40626-296a-47ea-8eac-2f4a81aca14e",
   "metadata": {},
   "source": [
    "#### **II.Prédiction des calories brûlées**"
   ]
  },
  {
   "cell_type": "code",
   "execution_count": 16,
   "id": "17254396-a034-4e5e-b7b2-b69a87674b0f",
   "metadata": {},
   "outputs": [],
   "source": [
    "from sklearn.preprocessing import StandardScaler  \n",
    "gym_dummies=pd.get_dummies(gym[[\"Gender\",\"Workout_Type\",\"Experience_Level\"]])\n",
    "gym_quant=gym[[\"Age\",\"Height (m)\",\"Max_BPM\",\"Avg_BPM\",\"Resting_BPM\",\"Session_Duration (hours)\",\"Fat_Percentage\",\"Water_Intake (liters)\",\"Workout_Frequency (days/week)\",\"LWeight\",\"LBMI\"]]\n",
    "X=pd.concat([gym_dummies,gym_quant],axis=1)\n",
    "Y=gym[\"Calories_Burned\"]\n",
    "X_train, X_test, Y_train, Y_test = train_test_split(X, Y, test_size=0.2, random_state=42)\n",
    "# L'algorithme des réseaux de neurones nécessite éventuellement une normalisation \n",
    "# des variables explicatives avec les commandes ci-dessous\n",
    "scaler = StandardScaler()  \n",
    "scaler.fit(X_train)  \n",
    "Xr_train = scaler.transform(X_train)  \n",
    "# Meme transformation sur le test\n",
    "Xr_test = scaler.transform(X_test)"
   ]
  },
  {
   "cell_type": "markdown",
   "id": "3b9beb49-bb3d-4628-b164-49c9e059dc4a",
   "metadata": {},
   "source": [
    "(Expliquer pourquoi on doit créer des échantillons d'entrainement et de test)"
   ]
  },
  {
   "cell_type": "markdown",
   "id": "a5279118-72a8-4148-a1af-1eddae4c729e",
   "metadata": {},
   "source": [
    "**Régression Linéaire Totale**"
   ]
  },
  {
   "cell_type": "code",
   "execution_count": 29,
   "id": "bf650fc1-0f0b-44c5-8585-f2e4ed98ecee",
   "metadata": {},
   "outputs": [],
   "source": [
    "from sklearn.linear_model import LinearRegression\n",
    "from sklearn.metrics import mean_squared_error\n",
    "from sklearn.metrics import r2_score\n",
    "from sklearn.feature_selection import SequentialFeatureSelector"
   ]
  },
  {
   "cell_type": "code",
   "execution_count": 25,
   "id": "93accfa6-85d2-4f2e-9ed3-0560fc514ca0",
   "metadata": {},
   "outputs": [
    {
     "data": {
      "text/html": [
       "<div>\n",
       "<style scoped>\n",
       "    .dataframe tbody tr th:only-of-type {\n",
       "        vertical-align: middle;\n",
       "    }\n",
       "\n",
       "    .dataframe tbody tr th {\n",
       "        vertical-align: top;\n",
       "    }\n",
       "\n",
       "    .dataframe thead th {\n",
       "        text-align: right;\n",
       "    }\n",
       "</style>\n",
       "<table border=\"1\" class=\"dataframe\">\n",
       "  <thead>\n",
       "    <tr style=\"text-align: right;\">\n",
       "      <th></th>\n",
       "      <th>Gender_Female</th>\n",
       "      <th>Gender_Male</th>\n",
       "      <th>Workout_Type_Cardio</th>\n",
       "      <th>Workout_Type_HIIT</th>\n",
       "      <th>Workout_Type_Strength</th>\n",
       "      <th>Workout_Type_Yoga</th>\n",
       "      <th>Experience_Level_1</th>\n",
       "      <th>Experience_Level_2</th>\n",
       "      <th>Experience_Level_3</th>\n",
       "      <th>Age</th>\n",
       "      <th>Height (m)</th>\n",
       "      <th>Max_BPM</th>\n",
       "      <th>Avg_BPM</th>\n",
       "      <th>Resting_BPM</th>\n",
       "      <th>Session_Duration (hours)</th>\n",
       "      <th>Fat_Percentage</th>\n",
       "      <th>Water_Intake (liters)</th>\n",
       "      <th>Workout_Frequency (days/week)</th>\n",
       "      <th>LWeight</th>\n",
       "      <th>LBMI</th>\n",
       "    </tr>\n",
       "  </thead>\n",
       "  <tbody>\n",
       "    <tr>\n",
       "      <th>1</th>\n",
       "      <td>-40.616945</td>\n",
       "      <td>40.616945</td>\n",
       "      <td>4.300074</td>\n",
       "      <td>-0.613634</td>\n",
       "      <td>0.854746</td>\n",
       "      <td>-4.541186</td>\n",
       "      <td>5.393996</td>\n",
       "      <td>3.487243</td>\n",
       "      <td>-8.881239</td>\n",
       "      <td>-3.303993</td>\n",
       "      <td>48.236338</td>\n",
       "      <td>0.117404</td>\n",
       "      <td>6.154324</td>\n",
       "      <td>0.608697</td>\n",
       "      <td>713.889762</td>\n",
       "      <td>-1.024192</td>\n",
       "      <td>-2.42287</td>\n",
       "      <td>4.03075</td>\n",
       "      <td>-24.770089</td>\n",
       "      <td>31.892252</td>\n",
       "    </tr>\n",
       "  </tbody>\n",
       "</table>\n",
       "</div>"
      ],
      "text/plain": [
       "   Gender_Female  Gender_Male  Workout_Type_Cardio  Workout_Type_HIIT  \\\n",
       "1     -40.616945    40.616945             4.300074          -0.613634   \n",
       "\n",
       "   Workout_Type_Strength  Workout_Type_Yoga  Experience_Level_1  \\\n",
       "1               0.854746          -4.541186            5.393996   \n",
       "\n",
       "   Experience_Level_2  Experience_Level_3       Age  Height (m)   Max_BPM  \\\n",
       "1            3.487243           -8.881239 -3.303993   48.236338  0.117404   \n",
       "\n",
       "    Avg_BPM  Resting_BPM  Session_Duration (hours)  Fat_Percentage  \\\n",
       "1  6.154324     0.608697                713.889762       -1.024192   \n",
       "\n",
       "   Water_Intake (liters)  Workout_Frequency (days/week)    LWeight       LBMI  \n",
       "1               -2.42287                        4.03075 -24.770089  31.892252  "
      ]
     },
     "execution_count": 25,
     "metadata": {},
     "output_type": "execute_result"
    }
   ],
   "source": [
    "reglin=LinearRegression().fit(X_train,Y_train)\n",
    "reglinpred=reglin.predict(X_test)\n",
    "reglin_coeff = pd.DataFrame(columns=X.columns)\n",
    "reglin_coeff.loc[1]=reglin.coef_\n",
    "reglin_coeff"
   ]
  },
  {
   "cell_type": "code",
   "execution_count": 26,
   "id": "faf556b8-0dd5-4fb4-9caa-f3f5a64e6116",
   "metadata": {},
   "outputs": [
    {
     "name": "stdout",
     "output_type": "stream",
     "text": [
      "MSE= 1674.4201880746157\n",
      "R2= 0.9794455159771281\n"
     ]
    }
   ],
   "source": [
    "print(\"MSE=\",mean_squared_error(reglinpred,Y_test))\n",
    "print(\"R2=\",r2_score(reglinpred,Y_test))"
   ]
  },
  {
   "cell_type": "markdown",
   "id": "79a5538c-3d20-4b6b-ad8f-229589589aae",
   "metadata": {},
   "source": [
    "**Régression Linéaire avec forward selection**"
   ]
  },
  {
   "cell_type": "code",
   "execution_count": 38,
   "id": "8b2162f9-f18e-4c19-b567-502d58cb6c17",
   "metadata": {},
   "outputs": [
    {
     "name": "stdout",
     "output_type": "stream",
     "text": [
      "Variables sélectionnées : Index(['Gender_Female', 'Gender_Male', 'Workout_Type_Cardio', 'Age', 'Max_BPM',\n",
      "       'Avg_BPM', 'Resting_BPM', 'Session_Duration (hours)', 'Fat_Percentage',\n",
      "       'LWeight'],\n",
      "      dtype='object')\n"
     ]
    }
   ],
   "source": [
    "def compute_aic(n, mse, k):\n",
    "    return n * math.log(mse) + 2 * k\n",
    "\n",
    "sfs_lin = SequentialFeatureSelector(LinearRegression(), direction=\"forward\", cv=5)\n",
    "sfs_lin.fit(Xr_train, Y_train)\n",
    "X_forward_train=sfs_lin.transform(Xr_train)\n",
    "X_forward_test=sfs_lin.transform(Xr_test)\n",
    "selected_features = X.columns[sfs_lin.get_support()]\n",
    "print(\"Variables sélectionnées :\", selected_features)\n",
    "reglin_forward=LinearRegression().fit(X_forward_train,Y_train)\n",
    "reglin_forward_pred=reglin_forward.predict(X_forward_test)"
   ]
  },
  {
   "cell_type": "code",
   "execution_count": 42,
   "id": "6af46551-3d83-445b-97fd-797e64bb2d23",
   "metadata": {},
   "outputs": [
    {
     "data": {
      "text/html": [
       "<div>\n",
       "<style scoped>\n",
       "    .dataframe tbody tr th:only-of-type {\n",
       "        vertical-align: middle;\n",
       "    }\n",
       "\n",
       "    .dataframe tbody tr th {\n",
       "        vertical-align: top;\n",
       "    }\n",
       "\n",
       "    .dataframe thead th {\n",
       "        text-align: right;\n",
       "    }\n",
       "</style>\n",
       "<table border=\"1\" class=\"dataframe\">\n",
       "  <thead>\n",
       "    <tr style=\"text-align: right;\">\n",
       "      <th></th>\n",
       "      <th>Gender_Female</th>\n",
       "      <th>Gender_Male</th>\n",
       "      <th>Workout_Type_Cardio</th>\n",
       "      <th>Age</th>\n",
       "      <th>Max_BPM</th>\n",
       "      <th>Avg_BPM</th>\n",
       "      <th>Resting_BPM</th>\n",
       "      <th>Session_Duration (hours)</th>\n",
       "      <th>Fat_Percentage</th>\n",
       "      <th>LWeight</th>\n",
       "    </tr>\n",
       "  </thead>\n",
       "  <tbody>\n",
       "    <tr>\n",
       "      <th>1</th>\n",
       "      <td>-20.770009</td>\n",
       "      <td>20.770009</td>\n",
       "      <td>2.274888</td>\n",
       "      <td>-40.082023</td>\n",
       "      <td>0.949374</td>\n",
       "      <td>88.609752</td>\n",
       "      <td>4.456477</td>\n",
       "      <td>240.255267</td>\n",
       "      <td>-3.161526</td>\n",
       "      <td>2.094537</td>\n",
       "    </tr>\n",
       "  </tbody>\n",
       "</table>\n",
       "</div>"
      ],
      "text/plain": [
       "   Gender_Female  Gender_Male  Workout_Type_Cardio        Age   Max_BPM  \\\n",
       "1     -20.770009    20.770009             2.274888 -40.082023  0.949374   \n",
       "\n",
       "     Avg_BPM  Resting_BPM  Session_Duration (hours)  Fat_Percentage   LWeight  \n",
       "1  88.609752     4.456477                240.255267       -3.161526  2.094537  "
      ]
     },
     "execution_count": 42,
     "metadata": {},
     "output_type": "execute_result"
    }
   ],
   "source": [
    "reglin_forward_coeff = pd.DataFrame(columns=selected_features)\n",
    "reglin_forward_coeff.loc[1]=reglin_forward.coef_\n",
    "reglin_forward_coeff"
   ]
  },
  {
   "cell_type": "code",
   "execution_count": 39,
   "id": "9bdc7123-c33d-4d86-a726-d4b0d382bb91",
   "metadata": {},
   "outputs": [
    {
     "name": "stdout",
     "output_type": "stream",
     "text": [
      "MSE= 1634.4461458205335\n",
      "R2= 0.979977546643114\n"
     ]
    }
   ],
   "source": [
    "print(\"MSE=\",mean_squared_error(reglin_forward_pred,Y_test))\n",
    "print(\"R2=\",r2_score(reglin_forward_pred,Y_test))"
   ]
  },
  {
   "cell_type": "markdown",
   "id": "e4fe98a3-a05b-4692-989e-3d08ecdb76db",
   "metadata": {},
   "source": [
    "**Régression Lasso**"
   ]
  },
  {
   "cell_type": "code",
   "execution_count": 48,
   "id": "ab553d13-e7fc-4966-be52-e0e474c26e41",
   "metadata": {},
   "outputs": [
    {
     "name": "stdout",
     "output_type": "stream",
     "text": [
      "Meilleur R2 = 0.977534, Meilleur paramètre = {'alpha': 0.8}\n"
     ]
    }
   ],
   "source": [
    "from sklearn.linear_model import Lasso\n",
    "from sklearn.model_selection import GridSearchCV\n",
    "model=Lasso()\n",
    "param=[{\"alpha\":[0.05]+[0.1*i for i in range(1,9)]+[1,2]}]\n",
    "regLasso = GridSearchCV(Lasso(), param,cv=5,n_jobs=-1)\n",
    "regLassOpt=regLasso.fit(Xr_train, Y_train)\n",
    "regLassOpt.best_params_[\"alpha\"]\n",
    "print(\"Meilleur R2 = %f, Meilleur paramètre = %s\" % (regLassOpt.best_score_,regLassOpt.best_params_))"
   ]
  },
  {
   "cell_type": "code",
   "execution_count": 51,
   "id": "89beeb6c-6e0a-4209-8e66-20a11ea515aa",
   "metadata": {},
   "outputs": [
    {
     "name": "stdout",
     "output_type": "stream",
     "text": [
      "MSE= 1640.7167506205897\n",
      "R2= 0.9803330387013541\n"
     ]
    }
   ],
   "source": [
    "prev=regLassOpt.predict(Xr_test)\n",
    "print(\"MSE=\",mean_squared_error(prev,Y_test))\n",
    "print(\"R2=\",r2_score(Y_test,prev))"
   ]
  },
  {
   "cell_type": "code",
   "execution_count": 56,
   "id": "bd27b4f4-79ec-4ed7-943a-c5ebcfe96bce",
   "metadata": {},
   "outputs": [
    {
     "data": {
      "image/png": "[encoded data removed]",
      "text/plain": [
       "<Figure size 640x480 with 1 Axes>"
      ]
     },
     "metadata": {},
     "output_type": "display_data"
    }
   ],
   "source": [
    "p=np.min(Y_test),np.max(Y_test)\n",
    "plt.plot(prev,Y_test,\"o\")\n",
    "plt.plot(p,p,\"r-\")\n",
    "plt.xlabel(u\"Calories Brûlées Prédite\")\n",
    "plt.ylabel(\"Calories Brûlées observee\")\n",
    "plt.show()"
   ]
  },
  {
   "cell_type": "code",
   "execution_count": 60,
   "id": "ee8a1653-6d25-4cac-85af-4e9fbd971966",
   "metadata": {},
   "outputs": [
    {
     "data": {
      "image/png": "[encoded data removed]",
      "text/plain": [
       "<Figure size 640x480 with 1 Axes>"
      ]
     },
     "metadata": {},
     "output_type": "display_data"
    }
   ],
   "source": [
    "plt.plot(prev,Y_test-prev,\"o\")\n",
    "plt.xlabel(u\"Prédites\")\n",
    "plt.ylabel(u\"Résidus\")\n",
    "plt.hlines(0,min(prev),max(prev),\"r\")\n",
    "plt.show()"
   ]
  },
  {
   "cell_type": "code",
   "execution_count": 65,
   "id": "d4eb8b6a-2548-47d6-a55d-817e06a31c51",
   "metadata": {},
   "outputs": [
    {
     "name": "stdout",
     "output_type": "stream",
     "text": [
      "Lasso conserve 14 variables et en supprime 6\n"
     ]
    },
    {
     "data": {
      "text/plain": [
       "Text(0.5, 1.0, 'Coefficients du modèle lasso')"
      ]
     },
     "execution_count": 65,
     "metadata": {},
     "output_type": "execute_result"
    },
    {
     "data": {
      "image/png": "[encoded data removed]",
      "text/plain": [
       "<Figure size 500x600 with 1 Axes>"
      ]
     },
     "metadata": {},
     "output_type": "display_data"
    }
   ],
   "source": [
    "regLasso=linear_model.Lasso(alpha=regLassOpt.best_params_['alpha'])\n",
    "model_lasso=regLasso.fit(Xr_train,Y_train)\n",
    "coef = pd.Series(model_lasso.coef_, index = X_train.columns)\n",
    "print(\"Lasso conserve \" + str(sum(coef != 0)) + \" variables et en supprime \" +  str(sum(coef == 0)))\n",
    "imp_coef = coef.sort_values()\n",
    "plt.rcParams['figure.figsize'] = (5.0, 6.0)\n",
    "imp_coef.plot(kind = \"barh\")\n",
    "plt.title(u\"Coefficients du modèle lasso\")"
   ]
  },
  {
   "cell_type": "code",
   "execution_count": null,
   "id": "a3f2ffaf-e309-48fe-a716-162a969295c5",
   "metadata": {},
   "outputs": [],
   "source": []
  }
 ],
 "metadata": {
  "kernelspec": {
   "display_name": "Python 3 (ipykernel)",
   "language": "python",
   "name": "python3"
  },
  "language_info": {
   "codemirror_mode": {
    "name": "ipython",
    "version": 3
   },
   "file_extension": ".py",
   "mimetype": "text/x-python",
   "name": "python",
   "nbconvert_exporter": "python",
   "pygments_lexer": "ipython3",
   "version": "3.9.13"
  }
 },
 "nbformat": 4,
 "nbformat_minor": 5
}
