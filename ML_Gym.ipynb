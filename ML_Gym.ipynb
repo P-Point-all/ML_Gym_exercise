{
 "cells": [
  {
   "cell_type": "markdown",
   "id": "ca49fd34-fd25-4d1b-beec-d9843ed96098",
   "metadata": {},
   "source": [
    "# Projet de Machine Learning\n",
    "## Gym Members Exercise Dataset"
   ]
  },
  {
   "cell_type": "markdown",
   "id": "f8108ea8-9774-4251-bced-573f2cadda5e",
   "metadata": {},
   "source": [
    "### EHRHART Elsa, SLISSE Paul, STAUB Guillaume, HOSSEINI Arman"
   ]
  },
  {
   "cell_type": "code",
   "execution_count": 4,
   "id": "2af63e3c-4d32-4af9-843e-a6faf69e670e",
   "metadata": {},
   "outputs": [
    {
     "name": "stderr",
     "output_type": "stream",
     "text": [
      "Warning message in scan(file = file, what = what, sep = sep, quote = quote, dec = dec, :\n",
      "“Fin de fichier (EOF) dans une chaîne de caractères entre guillements”\n"
     ]
    },
    {
     "data": {
      "text/html": [
       "<table class=\"dataframe\">\n",
       "<caption>A data.frame: 6 × 1</caption>\n",
       "<thead>\n",
       "\t<tr><th></th><th scope=col>X..DOCTYPE.html.</th></tr>\n",
       "\t<tr><th></th><th scope=col>&lt;chr&gt;</th></tr>\n",
       "</thead>\n",
       "<tbody>\n",
       "\t<tr><th scope=row>1</th><td><span style=white-space:pre-wrap>&lt;html lang=en&gt;                                                                                                     </span></td></tr>\n",
       "\t<tr><th scope=row>2</th><td><span style=white-space:pre-wrap>&lt;head&gt;                                                                                                             </span></td></tr>\n",
       "\t<tr><th scope=row>3</th><td><span style=white-space:pre-wrap>  &lt;title&gt;Gym Members Exercise Dataset | Kaggle&lt;/title&gt;                                                             </span></td></tr>\n",
       "\t<tr><th scope=row>4</th><td><span style=white-space:pre-wrap>  &lt;meta charset=utf-8 /&gt;                                                                                           </span></td></tr>\n",
       "\t<tr><th scope=row>5</th><td><span style=white-space:pre-wrap>    &lt;meta name=robots content=index, follow /&gt;                                                                     </span></td></tr>\n",
       "\t<tr><th scope=row>6</th><td><span style=white-space:pre-wrap>  &lt;meta name=description content=Analyzing Fitness Patterns and Performance Across Diverse Gym Experience Levels /&gt;</span></td></tr>\n",
       "</tbody>\n",
       "</table>\n"
      ],
      "text/latex": [
       "A data.frame: 6 × 1\n",
       "\\begin{tabular}{r|l}\n",
       "  & X..DOCTYPE.html.\\\\\n",
       "  & <chr>\\\\\n",
       "\\hline\n",
       "\t1 & <html lang=en>                                                                                                     \\\\\n",
       "\t2 & <head>                                                                                                             \\\\\n",
       "\t3 &   <title>Gym Members Exercise Dataset \\textbar{} Kaggle</title>                                                             \\\\\n",
       "\t4 &   <meta charset=utf-8 />                                                                                           \\\\\n",
       "\t5 &     <meta name=robots content=index, follow />                                                                     \\\\\n",
       "\t6 &   <meta name=description content=Analyzing Fitness Patterns and Performance Across Diverse Gym Experience Levels />\\\\\n",
       "\\end{tabular}\n"
      ],
      "text/markdown": [
       "\n",
       "A data.frame: 6 × 1\n",
       "\n",
       "| <!--/--> | X..DOCTYPE.html. &lt;chr&gt; |\n",
       "|---|---|\n",
       "| 1 | &lt;html lang=en&gt;                                                                                                      |\n",
       "| 2 | &lt;head&gt;                                                                                                              |\n",
       "| 3 |   &lt;title&gt;Gym Members Exercise Dataset | Kaggle&lt;/title&gt;                                                              |\n",
       "| 4 |   &lt;meta charset=utf-8 /&gt;                                                                                            |\n",
       "| 5 |     &lt;meta name=robots content=index, follow /&gt;                                                                      |\n",
       "| 6 |   &lt;meta name=description content=Analyzing Fitness Patterns and Performance Across Diverse Gym Experience Levels /&gt; |\n",
       "\n"
      ],
      "text/plain": [
       "  X..DOCTYPE.html.                                                                                                   \n",
       "1 <html lang=en>                                                                                                     \n",
       "2 <head>                                                                                                             \n",
       "3   <title>Gym Members Exercise Dataset | Kaggle</title>                                                             \n",
       "4   <meta charset=utf-8 />                                                                                           \n",
       "5     <meta name=robots content=index, follow />                                                                     \n",
       "6   <meta name=description content=Analyzing Fitness Patterns and Performance Across Diverse Gym Experience Levels />"
      ]
     },
     "metadata": {},
     "output_type": "display_data"
    },
    {
     "data": {
      "text/plain": [
       " X..DOCTYPE.html.  \n",
       " Length:213        \n",
       " Class :character  \n",
       " Mode  :character  "
      ]
     },
     "metadata": {},
     "output_type": "display_data"
    }
   ],
   "source": [
    "path <- \"gym_members_exercise_tracking.csv\"\n",
    "gym <- read.table(path,sep = \",\", header = TRUE)\n",
    "# Premières lignes du jeu de données\n",
    "head(gym)\n",
    "# Vérification du contenu\n",
    "summary(gym)"
   ]
  },
  {
   "cell_type": "code",
   "execution_count": null,
   "id": "7e92ffcd-addf-49b4-94de-ee6ddabc4de9",
   "metadata": {},
   "outputs": [],
   "source": []
  }
 ],
 "metadata": {
  "kernelspec": {
   "display_name": "R",
   "language": "R",
   "name": "ir"
  },
  "language_info": {
   "codemirror_mode": "r",
   "file_extension": ".r",
   "mimetype": "text/x-r-source",
   "name": "R",
   "pygments_lexer": "r",
   "version": "4.4.2"
  }
 },
 "nbformat": 4,
 "nbformat_minor": 5
}
