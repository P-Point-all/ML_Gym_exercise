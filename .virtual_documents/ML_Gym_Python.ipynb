








import pandas as pd
import numpy as np
import seaborn as sns
import matplotlib.pyplot as plt
from sklearn.model_selection import train_test_split
path="./gym_members_exercise_tracking.csv"
gym=pd.read_csv(path,sep=",",header=0)
gym.head()


gym["Gender"]=pd.Categorical(gym["Gender"],ordered=False)
gym["Workout_Type"]=pd.Categorical(gym["Workout_Type"],ordered=False)
gym["Experience_Level"]=pd.Categorical(gym["Experience_Level"],ordered=True)
gym.dtypes


gym["LWeight"]=gym["Weight (kg)"].map(lambda x:np.log(x))
gym["LBMI"]=gym["BMI"].map(lambda x:np.log(x))
gym["LWater_Intake"]=gym["Water_Intake (liters)"].map(lambda x:np.log(x))
gym["Fat_Percentage_S"]=gym["Fat_Percentage"].map(lambda x:x**2/100)
gym["SHeight"]=gym["Height (m)"].map(lambda x:np.sqrt(x))
del gym["Weight (kg)"]
del gym["BMI"]
del gym["Water_Intake (liters)"]
del gym["Fat_Percentage"]
del gym["Height (m)"]
gym.head()


print(gym.isnull().sum())








X=gym.copy()
del X["Calories_Burned"]
y=gym["Calories_Burned"]
X_train, X_test, y_train, y_test = train_test_split(X, y, test_size=0.2, random_state=42)
from sklearn.preprocessing import StandardScaler  
# L'algorithme des réseaux de neurones nécessite éventuellement une normalisation 
# des variables explicatives avec les commandes ci-dessous
scaler = StandardScaler()  
scaler.fit(X_train)  
Xr_train = scaler.transform(X_train)  
# Meme transformation sur le test
Xr_test = scaler.transform(X_test)








from sklearn import linear_model
from sklearn.preprocessing import StandardScaler 


reglin=LinearRegression().fit(X_train,y_train)
reglinpred=reglin.predict(X_test)
reglin.score(X_test,y_test)



